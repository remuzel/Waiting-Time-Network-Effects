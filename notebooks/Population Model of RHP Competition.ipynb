{
 "cells": [
  {
   "cell_type": "code",
   "execution_count": 1,
   "metadata": {},
   "outputs": [],
   "source": [
    "import numpy as np; np.random.seed(1218042)\n",
    "import seaborn as sb; sb.set()\n",
    "from matplotlib import pyplot as plt\n",
    "from mpl_toolkits.mplot3d import Axes3D\n",
    "from tqdm import tqdm_notebook as tqdm "
   ]
  },
  {
   "cell_type": "markdown",
   "metadata": {},
   "source": [
    "# Population Model of Competition between ride hailing platforms\n",
    "\n",
    "Let $f_{R}(t, u)$ and $f_{D}(t, u)$ model the local densities of riders and drivers. Then their growths are determined by:\n",
    "\n",
    "$$\n",
    "\\frac{\\delta}{\\delta t}f_{R}(t, u) = R_{R}(t, u)f_{R}(t, u)\n",
    "$$\n",
    "$$\n",
    "\\frac{\\delta}{\\delta t}f_{D}(t, v) = R_{D}(t, v)f_{D}(t, v)\n",
    "$$\n",
    "\n",
    "where $R_{R}$ and $R_{D}$ model the net growth rates of rider and drivers respectively:\n",
    "\n",
    "$$\n",
    "R_{R}(t, u) := (\\kappa_{R} - \\mu_{R}\\rho_{R}(t)) - \\int_{V} \\eta_{\\theta_{P}}(|u-v|)f_{D}(t, v)dv\n",
    "$$\n",
    "$$\n",
    "R_{D}(t, v) := [\\int_{U}\\eta_{\\theta_{P}}(|u-v|)f_{R}(t, u)du + \\kappa_{D}c_{I}(t)] - \\frac{\\mu_{D}}{1+\\mu_{A}c_{A}(t)}\\rho_{D}(t)\n",
    "$$\n",
    "\n",
    "The implementation is as follows:\n",
    "\n",
    "#### For riders:\n",
    "\n",
    "* $\\kappa_{R}$ the natural growth rate of rider agents,\n",
    "* $\\mu_{R}$ the reduction in platform attractiveness due to competition for ressources among riders (**waiting time effect**),\n",
    "* $\\rho_{R}(t)$ the total density of riders that are currently seeking rides (**unmet demant**),\n",
    "* $\\eta_{\\theta_{P}}$ the price surge in effect with $\\theta_{P}$ being the surge coefficient,\n",
    "* $f_{D}(t, v)$ the density of drivers for platform $v$,\n",
    "* $u$ indicator of riders for platform $u$,\n",
    "* $V$ the set of platforms that drivers can join.\n",
    "\n",
    "\n",
    "#### For drivers:\n",
    "\n",
    "* $\\eta_{\\theta_{P}}$ the price surge in effect with $\\theta_{P}$ being the surge coefficient,\n",
    "* $f_{R}(t, u)$ the density of riders for platform $u$,\n",
    "* $\\kappa_{D}$ the natural growth rate of driver agents (**barabasi effect on growth**),\n",
    "* $c_{I}(t)$ the effect of incentives presented to drivers for them to join platform $v$ (*e.g. financial, advertisment, ...*),\n",
    "* $\\mu_{D}$ the reduction of platform attractiveness for drivers due to competition for ressources amongst drivers (**idle time**),\n",
    "* $\\mu_{A}$ the reduction of platform attractiveness for drivers due to driver attrition,\n",
    "* $c_{A}(t)$ the effect of external mitigations on driver attrition (*e.g. good employee development programs*),\n",
    "* $\\rho_{D}(t)$ the total density of drivers that are currently seeking rides,\n",
    "* $v$ indicator of drivers for platform $u$,\n",
    "* $U$ the set of platforms that riders can join.\n",
    "\n",
    "## Modelling the growth\n",
    "\n",
    "To recreate the model, $f_{R,I}$ will be an array of its values where each index reprents its value at time $t$.\n",
    "\n",
    "At every time step ($\\Delta t = 0.1$):\n",
    "\n",
    "$$f_{R}(t_{k+1}, u) = f_{R}(t_{k}, u) + \\Delta t [R^{+}_{R}(t_{k}, u)f_{R}(t_{k}, u) - R^{-}_{R}(t_{k}, u)f_{R}(t_{k+1}, u)]$$\n",
    "$$f_{D}(t_{k+1}, v) = f_{D}(t_{k}, v) + \\Delta t [R^{+}_{D}(t_{k}, v)f_{D}(t_{k}, v) - R^{-}_{D}(t_{k}, v)f_{D}(t_{k+1}, v)]$$\n",
    "\n",
    "or in explicit terms:\n",
    "\n",
    "$$f_{R}(t_{k+1}, u) = f_{R}(t_{k}, u) \\frac{1+\\Delta t R^{+}_{R}(t_{k}, u)}{1+\\Delta t R^{-}_{R}(t_{k}, u)} \\qquad f_{D}(t_{k+1}, v) = f_{D}(t_{k}, v) \\frac{1+\\Delta t R^{+}_{D}(t_{k}, v)}{1+\\Delta t R^{-}_{D}(t_{k}, v)}$$\n",
    "\n",
    "We will compute this evolution for various sets of platforms $U$ and $V$."
   ]
  }
 ],
 "metadata": {
  "kernelspec": {
   "display_name": "Python 3",
   "language": "python",
   "name": "python3"
  },
  "language_info": {
   "codemirror_mode": {
    "name": "ipython",
    "version": 3
   },
   "file_extension": ".py",
   "mimetype": "text/x-python",
   "name": "python",
   "nbconvert_exporter": "python",
   "pygments_lexer": "ipython3",
   "version": "3.7.6"
  }
 },
 "nbformat": 4,
 "nbformat_minor": 2
}
