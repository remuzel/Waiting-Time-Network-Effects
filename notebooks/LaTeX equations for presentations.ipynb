{
 "cells": [
  {
   "cell_type": "markdown",
   "metadata": {},
   "source": [
    "$$R_{R}(t, u) := \\quad\\qquad (\\kappa_{D}(u) - \\mu_{R}\\frac{f_{R}(t, u)}{f_{D}(t, u)}) \\qquad \\quad - \\int_{V}\\eta_{\\theta}(|u-v|)f_{D}(t, v)dv$$"
   ]
  },
  {
   "cell_type": "markdown",
   "metadata": {},
   "source": [
    "$$R_{D}(t, v) := \\left[\\int_{U} \\eta_{\\theta}(|u-v|)f_{R}(t, u)du + \\kappa_{R}(v)c_{D}(t)\\right] - \\frac{\\mu_{D}}{1+\\mu_{A}c_{A}(t)}\\frac{f_{D}(t, v)}{f_{R}(t, v)}$$"
   ]
  },
  {
   "cell_type": "markdown",
   "metadata": {},
   "source": [
    " with $$\\kappa_{R}(v_{i}) = \\frac{R_{R}(t, v_{i})}{\\sum_{j\\ne i}^{V}R_{R}(t, v_{j})} \\qquad \\kappa_{D}(u_{i}) = \\frac{R_{D}(t, u_{i})}{\\sum_{j\\ne i}^{U}R_{D}(t, u_{j})}$$\n"
   ]
  },
  {
   "cell_type": "markdown",
   "metadata": {},
   "source": [
    " "
   ]
  },
  {
   "cell_type": "markdown",
   "metadata": {},
   "source": [
    " "
   ]
  }
 ],
 "metadata": {
  "kernelspec": {
   "display_name": "Python 3",
   "language": "python",
   "name": "python3"
  },
  "language_info": {
   "codemirror_mode": {
    "name": "ipython",
    "version": 3
   },
   "file_extension": ".py",
   "mimetype": "text/x-python",
   "name": "python",
   "nbconvert_exporter": "python",
   "pygments_lexer": "ipython3",
   "version": "3.7.6"
  }
 },
 "nbformat": 4,
 "nbformat_minor": 2
}
