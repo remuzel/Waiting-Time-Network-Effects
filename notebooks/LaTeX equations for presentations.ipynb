{
 "cells": [
  {
   "cell_type": "markdown",
   "metadata": {},
   "source": [
    "$$R_{\\operatorname{rider}}(t, u) := \\quad\\qquad (\\kappa_{\\operatorname{driver}}(u) - \\mu_{\\operatorname{waiting}}\\frac{f_{\\operatorname{rider}}(t, u)}{f_{\\operatorname{driver}}(t, u)+f_{\\operatorname{rider}}(t, u)}) \\qquad \\quad - \\int_{V}\\eta_{\\operatorname{surge}}(|u-v|)f_{\\operatorname{driver}}(t, v)dv$$"
   ]
  },
  {
   "cell_type": "markdown",
   "metadata": {},
   "source": [
    "$$R_{\\operatorname{driver}}(t, v) := \\left[\\int_{U} \\eta_{\\operatorname{surge}}(|u-v|)f_{\\operatorname{rider}}(t, u)du + \\kappa_{\\operatorname{rider}}(v)\\right] - \\mu_{\\operatorname{idle}}\\frac{f_{\\operatorname{driver}}(t, v)}{f_{\\operatorname{rider}}(t, v)+f_{\\operatorname{driver}}(t, v)}$$"
   ]
  },
  {
   "cell_type": "markdown",
   "metadata": {},
   "source": [
    " with $$\\kappa_{\\operatorname{rider}}(v_{i}) = \\frac{\\omega_{\\operatorname{rider}}(t, v_{i})}{\\sum_{j\\ne i}^{V}\\omega_{\\operatorname{rider}}(t, v_{j})} \\qquad \\kappa_{\\operatorname{driver}}(u_{i}) = \\frac{\\omega_{\\operatorname{driver}}(t, u_{i})}{\\sum_{j\\ne i}^{U}\\omega_{\\operatorname{driver}}(t, u_{j})}$$\n",
    "\n",
    "and $\\omega(t, u_{i})$ the market share of platform $i$"
   ]
  },
  {
   "cell_type": "markdown",
   "metadata": {},
   "source": [
    " "
   ]
  },
  {
   "cell_type": "markdown",
   "metadata": {},
   "source": [
    " "
   ]
  },
  {
   "cell_type": "markdown",
   "metadata": {},
   "source": [
    " "
   ]
  },
  {
   "cell_type": "markdown",
   "metadata": {},
   "source": [
    "$$R_{\\operatorname{rider}}(t, u) := \\quad\\qquad (\\kappa_{\\operatorname{driver}} - \\mu_{\\operatorname{waiting}}\\rho_{\\operatorname{rider}}) \\qquad \\quad - \\int_{V}\\eta_{\\operatorname{surge}}(|u-v|)f_{\\operatorname{driver}}(t, v)dv$$"
   ]
  },
  {
   "cell_type": "markdown",
   "metadata": {},
   "source": [
    "$$R_{\\operatorname{driver}}(t, v) := \\left[\\int_{U} \\eta_{\\operatorname{surge}}(|u-v|)f_{\\operatorname{rider}}(t, u)du + \\kappa_{\\operatorname{rider}}c_{\\operatorname{driver}}(t)\\right] - \\frac{\\mu_{\\operatorname{idle}}}{1+\\mu_{A}c_{A}(t)}\\rho_{\\operatorname{driver}}$$"
   ]
  },
  {
   "cell_type": "markdown",
   "metadata": {},
   "source": [
    " "
   ]
  },
  {
   "cell_type": "markdown",
   "metadata": {},
   "source": []
  },
  {
   "cell_type": "markdown",
   "metadata": {},
   "source": [
    "$$P_{\\operatorname{joining}\\operatorname{uber}} = \\frac{|\\operatorname{uber}|}{|\\operatorname{uber}|+|\\operatorname{lyft}|} \\qquad P_{\\operatorname{joining}\\operatorname{lyft}} = \\frac{|\\operatorname{lyft}|}{|\\operatorname{uber}|+|\\operatorname{lyft}|}$$"
   ]
  }
 ],
 "metadata": {
  "kernelspec": {
   "display_name": "Python 3",
   "language": "python",
   "name": "python3"
  },
  "language_info": {
   "codemirror_mode": {
    "name": "ipython",
    "version": 3
   },
   "file_extension": ".py",
   "mimetype": "text/x-python",
   "name": "python",
   "nbconvert_exporter": "python",
   "pygments_lexer": "ipython3",
   "version": "3.7.6"
  }
 },
 "nbformat": 4,
 "nbformat_minor": 2
}
