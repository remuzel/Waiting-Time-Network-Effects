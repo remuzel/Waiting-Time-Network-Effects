{
 "cells": [
  {
   "cell_type": "markdown",
   "metadata": {},
   "source": [
    "$$R_{rider}(t, u_{i}) := \\kappa_{driver}(t, u_{i})-\\mu_{waiting}\\rho_{rider}(t, u_{i}) - \\eta\\rho_{rider}(t, u_{i})$$"
   ]
  },
  {
   "cell_type": "markdown",
   "metadata": {},
   "source": [
    "$$R_{driver}(t, u_{i}) := \\kappa_{rider}(t, u_{i}) - \\mu_{idle}\\rho_{driver}(t, u_{i}) + \\eta\\rho_{rider}(t,u_{i})$$"
   ]
  },
  {
   "cell_type": "markdown",
   "metadata": {},
   "source": [
    "with $$\\rho_{A}(t, u)=\\frac{f_{A}(t, u)}{f_{rider}(t, u)+f_{driver}(t, u)} \\qquad \\kappa_{A}(t, u_{i}) = \\frac{f_{A}(t, u_{i})}{\\sum_{j\\ne i}^{U}f_{A}(t, u_{j})} \\qquad A \\in \\{rider, driver\\}$$"
   ]
  },
  {
   "cell_type": "markdown",
   "metadata": {},
   "source": [
    " "
   ]
  },
  {
   "cell_type": "markdown",
   "metadata": {},
   "source": [
    " "
   ]
  },
  {
   "cell_type": "markdown",
   "metadata": {},
   "source": [
    " "
   ]
  },
  {
   "cell_type": "markdown",
   "metadata": {},
   "source": [
    "$$R_{\\operatorname{rider}}(t, u) := \\quad\\qquad (\\kappa_{\\operatorname{driver}} - \\mu_{\\operatorname{waiting}}\\rho_{\\operatorname{rider}}) \\qquad \\quad - \\int_{V}\\eta_{\\operatorname{surge}}(|u-v|)f_{\\operatorname{driver}}(t, v)dv$$"
   ]
  },
  {
   "cell_type": "markdown",
   "metadata": {},
   "source": [
    "$$R_{\\operatorname{driver}}(t, v) := \\left[\\int_{U} \\eta_{\\operatorname{surge}}(|u-v|)f_{\\operatorname{rider}}(t, u)du + \\kappa_{\\operatorname{rider}}c_{\\operatorname{driver}}(t)\\right] - \\frac{\\mu_{\\operatorname{idle}}}{1+\\mu_{A}c_{A}(t)}\\rho_{\\operatorname{driver}}$$"
   ]
  },
  {
   "cell_type": "markdown",
   "metadata": {},
   "source": [
    " "
   ]
  },
  {
   "cell_type": "markdown",
   "metadata": {},
   "source": []
  },
  {
   "cell_type": "markdown",
   "metadata": {},
   "source": [
    "$$P_{\\operatorname{joining}\\operatorname{uber}} = \\frac{|\\operatorname{uber}|}{|\\operatorname{uber}|+|\\operatorname{lyft}|} \\qquad P_{\\operatorname{joining}\\operatorname{lyft}} = \\frac{|\\operatorname{lyft}|}{|\\operatorname{uber}|+|\\operatorname{lyft}|}$$"
   ]
  }
 ],
 "metadata": {
  "kernelspec": {
   "display_name": "Python 3",
   "language": "python",
   "name": "python3"
  },
  "language_info": {
   "codemirror_mode": {
    "name": "ipython",
    "version": 3
   },
   "file_extension": ".py",
   "mimetype": "text/x-python",
   "name": "python",
   "nbconvert_exporter": "python",
   "pygments_lexer": "ipython3",
   "version": "3.8.2"
  }
 },
 "nbformat": 4,
 "nbformat_minor": 2
}
